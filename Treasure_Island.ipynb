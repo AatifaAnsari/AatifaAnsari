{
  "nbformat": 4,
  "nbformat_minor": 0,
  "metadata": {
    "colab": {
      "provenance": [],
      "authorship_tag": "ABX9TyNG6vsAHT3rxtlGDKqicxcn",
      "include_colab_link": true
    },
    "kernelspec": {
      "name": "python3",
      "display_name": "Python 3"
    },
    "language_info": {
      "name": "python"
    }
  },
  "cells": [
    {
      "cell_type": "markdown",
      "metadata": {
        "id": "view-in-github",
        "colab_type": "text"
      },
      "source": [
        "<a href=\"https://colab.research.google.com/github/AatifaAnsari/AatifaAnsari/blob/main/Treasure_Island.ipynb\" target=\"_parent\"><img src=\"https://colab.research.google.com/assets/colab-badge.svg\" alt=\"Open In Colab\"/></a>"
      ]
    },
    {
      "cell_type": "code",
      "execution_count": 5,
      "metadata": {
        "colab": {
          "base_uri": "https://localhost:8080/"
        },
        "id": "Jycvw9ENxYKE",
        "outputId": "fc5dcf70-5cbb-4883-db84-ff92d8850047"
      },
      "outputs": [
        {
          "output_type": "stream",
          "name": "stdout",
          "text": [
            "Welcome to Treasure Island!\n",
            "You are at a crossroad,where do you want to go? Type 'left' or 'right'.\n",
            "LEFT\n",
            "You have come across a lake, there is an island between a lake.Type \"wait\" for a boat.Type \"swim\" to swim across\n",
            "WAIT\n",
            "You arrived at island unharmed. There is a house at the island with three doors,one YELLOW,one BLUE,one RED\n",
            "YELLOW\n",
            "You found the treasure, YOU WIN!\n"
          ]
        }
      ],
      "source": [
        "print(\"Welcome to Treasure Island!\")\n",
        "choice1=input(\"You are at a crossroad,where do you want to go? Type 'left' or 'right'.\\n\").lower()\n",
        "if choice1=='left':\n",
        "  choice2= input('You have come across a lake, there is an island between a lake.Type \"wait\" for a boat.Type \"swim\" to swim across\\n').lower()\n",
        "  if choice2=='wait':\n",
        "   choice3=input(\"You arrived at island unharmed. There is a house at the island with three doors,one YELLOW,one BLUE,one RED\\n\").upper()\n",
        "   if choice3=='RED':\n",
        "    print(\"It's a room full of fire,GAME OVER\")\n",
        "   elif choice3=='YELLOW':\n",
        "    print(\"You found the treasure, YOU WIN!\")\n",
        "   elif choice3=='BLUE':\n",
        "    print(\"You entered the room of beast,GAME OVER\")\n",
        "   else:\n",
        "    print(\"You choose a door that doesn't exist.RETRY\")\n",
        "  else:\n",
        "    print (\"You attacked by angry trout,GAME OVER\")\n",
        "else:\n",
        "  print(\"You fell into a hole,GAME OVER\")"
      ]
    }
  ]
}