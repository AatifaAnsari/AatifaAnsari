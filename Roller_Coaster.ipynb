{
  "nbformat": 4,
  "nbformat_minor": 0,
  "metadata": {
    "colab": {
      "provenance": [],
      "authorship_tag": "ABX9TyOiCoKIdMuqv0fJ23oryDPf",
      "include_colab_link": true
    },
    "kernelspec": {
      "name": "python3",
      "display_name": "Python 3"
    },
    "language_info": {
      "name": "python"
    }
  },
  "cells": [
    {
      "cell_type": "markdown",
      "metadata": {
        "id": "view-in-github",
        "colab_type": "text"
      },
      "source": [
        "<a href=\"https://colab.research.google.com/github/AatifaAnsari/Treasure_Island/blob/main/Roller_Coaster.ipynb\" target=\"_parent\"><img src=\"https://colab.research.google.com/assets/colab-badge.svg\" alt=\"Open In Colab\"/></a>"
      ]
    },
    {
      "cell_type": "code",
      "execution_count": 8,
      "metadata": {
        "colab": {
          "base_uri": "https://localhost:8080/"
        },
        "id": "fqszLsXQ7x-3",
        "outputId": "d2399827-9af4-40e3-c308-d19d1469e5f9"
      },
      "outputs": [
        {
          "output_type": "stream",
          "name": "stdout",
          "text": [
            "Welcome to the ROLLERCOASTER!\n",
            "What's your height?123\n",
            "You can ride the roller coaster!\n",
            "What's your age?35\n",
            "Aged tickets are $12\n",
            "Do you want a photo? Y or N:y\n",
            "Your final bill is 15\n"
          ]
        }
      ],
      "source": [
        "print(\"Welcome to the ROLLERCOASTER!\")\n",
        "height=int(input(\"What's your height?\"))\n",
        "bill=0\n",
        "if height>=120:\n",
        "  print('You can ride the roller coaster!')\n",
        "  age=int(input(\"What's your age?\"))\n",
        "  if age<12:\n",
        "    bill=5\n",
        "    print(\"Child tickets are $5\")\n",
        "  elif age<=18:\n",
        "    bill=7\n",
        "    print(\"Adult tickets are $7\")\n",
        "  else:\n",
        "    bill=12\n",
        "    print(\"Aged tickets are $12\")\n",
        "  photo=input('Do you want a photo? Y or N:').upper()\n",
        "  if photo=='Y':\n",
        "    bill+=3\n",
        "    print(f'Your final bill is {bill}')\n",
        "  else:\n",
        "    print(f\"Your final bill is {bill}\")\n",
        "else:\n",
        "  print(\"Sorry, You can't ride\")\n"
      ]
    }
  ]
}